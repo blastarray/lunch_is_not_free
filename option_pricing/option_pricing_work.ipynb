{
 "cells": [
  {
   "cell_type": "code",
   "execution_count": 1,
   "metadata": {},
   "outputs": [
    {
     "name": "stdout",
     "output_type": "stream",
     "text": [
      "hellow\n"
     ]
    }
   ],
   "source": [
    "print('hellow')"
   ]
  },
  {
   "cell_type": "code",
   "execution_count": 5,
   "metadata": {},
   "outputs": [
    {
     "name": "stdout",
     "output_type": "stream",
     "text": [
      "None\n"
     ]
    }
   ],
   "source": [
    "import b_s_eur_options as bs\n",
    "\n",
    "a = bs.NdOne(1, 2, 3)\n",
    "\n",
    "print(a)"
   ]
  },
  {
   "cell_type": "code",
   "execution_count": null,
   "metadata": {},
   "outputs": [],
   "source": [
    "# call option\n",
    "# c = S"
   ]
  },
  {
   "attachments": {},
   "cell_type": "markdown",
   "metadata": {},
   "source": [
    "# Black-Scholes Pricing Formulas\n",
    "\n",
    "Price of a non-dividend paying European call option:  \n",
    "$c = S_0N(d_1) - Ke^{-rT}N(d_2)$  \n",
    "\n",
    "Price of a non-dividend paying European put option:  \n",
    "$p = Ke^{-rT}N(-d_2) - S_0N(-d_1)$\n",
    "\n",
    "where:  \n",
    "$S_0$ is the stock price at time zero, $t_0$  \n",
    "K is the strike price  \n",
    "r is the continously compounded risk-free rate  \n",
    "$\\sigma$ is the stock price volatility  \n",
    "T is the time to maturity  \n",
    "...add dividends too...\n",
    "\n",
    "$d1 = \\frac{ln(S_0/K)+(r+\\sigma^2/2)T}{\\sigma\\sqrt{T}}$\n",
    "\n",
    "$d2 = \\frac{ln(S_0/K)+(r-\\sigma^2/2)T}{\\sigma\\sqrt{T}} = d_1-\\sigma\\sqrt{T}$\n",
    "\n",
    "$N(d_2)$ is the probability that the call option will be exercised in a risk-neutral world  \n",
    "$KN(d_2)$ is the strike price times the probability that it will be paid"
   ]
  }
 ],
 "metadata": {
  "kernelspec": {
   "display_name": "base",
   "language": "python",
   "name": "python3"
  },
  "language_info": {
   "codemirror_mode": {
    "name": "ipython",
    "version": 3
   },
   "file_extension": ".py",
   "mimetype": "text/x-python",
   "name": "python",
   "nbconvert_exporter": "python",
   "pygments_lexer": "ipython3",
   "version": "3.8.5"
  },
  "orig_nbformat": 4,
  "vscode": {
   "interpreter": {
    "hash": "fbcfec112d550c7460073ac2ae37e4325a9c2f4fbf57e552f0eb3ee1d0d10ee3"
   }
  }
 },
 "nbformat": 4,
 "nbformat_minor": 2
}
